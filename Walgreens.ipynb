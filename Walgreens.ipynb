{
 "cells": [
  {
   "cell_type": "markdown",
   "metadata": {},
   "source": [
    "## Import code packages"
   ]
  },
  {
   "cell_type": "code",
   "execution_count": 1,
   "metadata": {},
   "outputs": [],
   "source": [
    "from selenium.webdriver.common.action_chains import ActionChains\n",
    "from selenium import webdriver\n",
    "import selenium.webdriver.chrome.service as service \n",
    "from selenium.webdriver.common.keys import Keys \n",
    "from selenium.webdriver.chrome.options import Options\n",
    "import getpass\n",
    "import time\n",
    "import pprint\n",
    "import random\n",
    "import smtplib\n",
    "from email.mime.multipart import MIMEMultipart\n",
    "from email.mime.text import MIMEText\n",
    "from datetime import datetime\n",
    "vaccine_found = False"
   ]
  },
  {
   "cell_type": "markdown",
   "metadata": {},
   "source": [
    "### Enter Walgreens credentials"
   ]
  },
  {
   "cell_type": "code",
   "execution_count": 2,
   "metadata": {},
   "outputs": [
    {
     "name": "stdin",
     "output_type": "stream",
     "text": [
      "Please enter your walgreens username:  samuel.piecz@gmail.com\n",
      "Please enter your walgreens password:  ··············\n"
     ]
    }
   ],
   "source": [
    "username_to_enter = input(\"Please enter your walgreens username: \") \n",
    "password_to_enter = getpass.getpass(\"Please enter your walgreens password: \")"
   ]
  },
  {
   "cell_type": "markdown",
   "metadata": {},
   "source": [
    "### Enter Gmail credentials"
   ]
  },
  {
   "cell_type": "code",
   "execution_count": 3,
   "metadata": {},
   "outputs": [
    {
     "name": "stdin",
     "output_type": "stream",
     "text": [
      "Please enter your email username:  samuel.piecz@gmail.com\n",
      "Please enter your email password:  ················\n"
     ]
    }
   ],
   "source": [
    "gmail_user = input(\"Please enter your email username: \")\n",
    "gmail_password = getpass.getpass(\"Please enter your email password: \")"
   ]
  },
  {
   "cell_type": "markdown",
   "metadata": {},
   "source": [
    "### Enter ZIP code"
   ]
  },
  {
   "cell_type": "code",
   "execution_count": 4,
   "metadata": {},
   "outputs": [
    {
     "name": "stdin",
     "output_type": "stream",
     "text": [
      "Please enter your zip code:  Woodstock, IL\n"
     ]
    }
   ],
   "source": [
    "# Define zip code\n",
    "myZipCode = input('Please enter your zip code: ')"
   ]
  },
  {
   "cell_type": "markdown",
   "metadata": {},
   "source": [
    "## Define function to send email for use later"
   ]
  },
  {
   "cell_type": "code",
   "execution_count": 223,
   "metadata": {
    "tags": []
   },
   "outputs": [],
   "source": [
    "def send_email(receiver_addresses = ['samuel.piecz@gmail.com','tony.piecz@gmail.com', 'ponypreacher@gmail.com']):\n",
    "    mail_content = '''Login to register for your vaccine.'''\n",
    "\n",
    "    #The mail addresses and password\n",
    "    sender_address = gmail_user\n",
    "    sender_pass = gmail_password\n",
    "\n",
    "    for receiver_address in receiver_addresses:\n",
    "\n",
    "        #Setup the MIME\n",
    "        message = MIMEMultipart()\n",
    "        message['From'] = sender_address\n",
    "        message['To'] = receiver_address\n",
    "        message['Subject'] = 'Register for COVID Vaccine Appointment Now'   #The subject line\n",
    "\n",
    "        #The body and the attachments for the mail\n",
    "        message.attach(MIMEText(mail_content, 'plain'))\n",
    "\n",
    "        #Create SMTP session for sending the mail\n",
    "        session = smtplib.SMTP('smtp.gmail.com', 587) #use gmail with port\n",
    "        session.starttls() #enable security\n",
    "        session.login(sender_address, sender_pass) #login with mail_id and password\n",
    "        text = message.as_string()\n",
    "\n",
    "        # Send Mail\n",
    "        session.sendmail(sender_address, receiver_address, text)\n",
    "        session.quit()\n",
    "        print('Mail Sent')"
   ]
  },
  {
   "cell_type": "markdown",
   "metadata": {},
   "source": [
    "## Define login function"
   ]
  },
  {
   "cell_type": "code",
   "execution_count": 185,
   "metadata": {},
   "outputs": [],
   "source": [
    "def login():\n",
    "    driver.get(\"https://www.walgreens.com/login.jsp\")\n",
    "\n",
    "    driver.get_screenshot_as_file(\"test1.png\")\n",
    "\n",
    "    login = driver.find_element_by_xpath('//*[@id=\"user_name\"]')\n",
    "    login.clear()\n",
    "    login.send_keys(username_to_enter)\n",
    "    time.sleep(1)\n",
    "    password = driver.find_element_by_xpath('//*[@id=\"user_password\"]')\n",
    "    password.clear()\n",
    "    password.send_keys(password_to_enter)\n",
    "    time.sleep(1)\n",
    "    show_pass = driver.find_element_by_xpath('//*[@id=\"ShowCharacter\"]')\n",
    "    show_pass.click()\n",
    "    time.sleep(1)\n",
    "    sign_in = driver.find_element_by_xpath('//*[@id=\"submit_btn\"]')\n",
    "    sign_in.click()\n",
    "    time.sleep(1)\n",
    "    driver.get_screenshot_as_file(\"test2.png\")"
   ]
  },
  {
   "cell_type": "markdown",
   "metadata": {},
   "source": [
    "## Define function to handle verification email"
   ]
  },
  {
   "cell_type": "code",
   "execution_count": 143,
   "metadata": {
    "tags": []
   },
   "outputs": [],
   "source": [
    "def verify(gmail_user, gmail_password):\n",
    "    # verify code\n",
    "    email_verify = driver.find_element_by_xpath('//*[@id=\"radio-email\"]')\n",
    "    email_verify.click()\n",
    "    send_verification = driver.find_element_by_xpath('//*[@id=\"btn_send_verify_code\"]')\n",
    "    send_verification.click()\n",
    "    time.sleep(5)\n",
    "\n",
    "    auth_code = \"\"\n",
    "    # TODO grab verification from gmail\n",
    "    import email\n",
    "    import imaplib\n",
    "    import mailbox\n",
    "\n",
    "    EMAIL_ACCOUNT = gmail_user\n",
    "    PASSWORD = gmail_password\n",
    "    folder = \"walgreens\"\n",
    "\n",
    "    mail = imaplib.IMAP4_SSL('imap.gmail.com')\n",
    "    mail.login(EMAIL_ACCOUNT, PASSWORD)\n",
    "    mail.list()\n",
    "    mail.select(folder)\n",
    "    result, data = mail.uid('search', None, \"ALL\") # (ALL/UNSEEN)\n",
    "\n",
    "    latest_email_uid = data[0].split()[-1]\n",
    "    result, email_data = mail.uid('fetch', latest_email_uid, '(RFC822)')\n",
    "    # result, email_data = conn.store(num,'-FLAGS','\\\\Seen')\n",
    "    # this might work to set flag to seen, if it doesn't already\n",
    "    raw_email = email_data[0][1]\n",
    "    raw_email_string = raw_email.decode('utf-8')\n",
    "    email_message = email.message_from_string(raw_email_string)\n",
    "    subject = str(email.header.make_header(email.header.decode_header(email_message['Subject'])))\n",
    "    print(subject.split(\":\")[1].strip())\n",
    "    auth_code = subject.split(\":\")[1].strip()\n",
    "\n",
    "    enter_verification = driver.find_element_by_xpath('//*[@id=\"auth-code\"]')\n",
    "    enter_verification.send_keys(auth_code)\n",
    "    \n",
    "    submit_verification = driver.find_element_by_xpath('//*[@id=\"validate_security_answer\"]')\n",
    "    submit_verification.click()\n",
    "    \n",
    "    driver.get_screenshot_as_file(\"test6.png\")\n"
   ]
  },
  {
   "cell_type": "markdown",
   "metadata": {
    "tags": []
   },
   "source": [
    "## Define function to see if vaccine is available"
   ]
  },
  {
   "cell_type": "code",
   "execution_count": 225,
   "metadata": {
    "tags": []
   },
   "outputs": [],
   "source": [
    "def checkAvailability():\n",
    "    driver.get(\"https://www.walgreens.com/findcare/vaccination/covid-19?ban=covid_vaccine_landing_schedule\")\n",
    "    \n",
    "    driver.get_screenshot_as_file(\"test3.png\")\n",
    "    \n",
    "    # Click button\n",
    "    scheduleNewAppointment = driver.find_element_by_xpath('/html/body/div[2]/section/section/section[2]/div/section/section/section[2]/a')\n",
    "    scheduleNewAppointment.click()\n",
    "    \n",
    "    driver.get_screenshot_as_file(\"test4.png\")\n",
    "\n",
    "    # Enter zip code\n",
    "    zipCodeInput = driver.find_element_by_xpath('//*[@id=\"inputLocation\"]')\n",
    "    time.sleep(2)\n",
    "    zipCodeInput.clear()\n",
    "    zipCodeInput.send_keys(myZipCode)\n",
    "    \n",
    "    # Click search button\n",
    "    searchZipButton = driver.find_element_by_xpath('/html/body/div[2]/div/div/section/section/section/section/section/section/section[2]/div/span/button')\n",
    "    searchZipButton.click()\n",
    "    \n",
    "    driver.get_screenshot_as_file(\"test5.png\")\n",
    "\n",
    "    \n",
    "    # Check if appointments available or not\n",
    "    popupText = driver.find_element_by_xpath('//*[@id=\"wag-body-main-container\"]/section/section/section/section/div/a/span[2]/p')\n",
    "    \n",
    "    # Send Email or display no appointments available\n",
    "    if popupText.text == 'Appointments unavailable':\n",
    "        print(\"No vaccines available. {}\".format(datetime.now()))\n",
    "        return False\n",
    "    else:\n",
    "        send_email()\n",
    "        return True"
   ]
  },
  {
   "cell_type": "markdown",
   "metadata": {},
   "source": [
    "## Define function to instantiate the web browser"
   ]
  },
  {
   "cell_type": "code",
   "execution_count": 231,
   "metadata": {},
   "outputs": [
    {
     "data": {
      "text/plain": [
       "{'identifier': '2'}"
      ]
     },
     "execution_count": 231,
     "metadata": {},
     "output_type": "execute_result"
    }
   ],
   "source": [
    "# def start_driver(headless=False):\n",
    "    # sets options to run in headless\n",
    "chrome_options = Options()\n",
    "chrome_options.add_argument('--start-maximized')\n",
    "# if headless:\n",
    "# chrome_options.add_argument('--headless')\n",
    "chrome_options.add_argument('--disable-blink-features=AutomationControlled')\n",
    "user_agent = 'Mozilla/5.0 (X11; Linux x86_64) AppleWebKit/537.36 (KHTML, like Gecko) Chrome/60.0.3112.50 Safari/537.36'\n",
    "chrome_options.add_argument(f'user-agent={user_agent}')\n",
    "chrome_options.add_argument(\"--disable-blink-features\")\n",
    "chrome_options.add_argument(\"--disable-blink-features=AutomationControlled\")\n",
    "# sets driver\n",
    "driver = webdriver.Chrome(\"./chromedriver\", options=chrome_options)\n",
    "driver.implicitly_wait(15)\n",
    "\n",
    "driver.execute_cdp_cmd(\"Page.addScriptToEvaluateOnNewDocument\", {\n",
    "  \"source\": \"\"\"\n",
    "    Object.defineProperty(navigator, 'webdriver', {\n",
    "      get: () => undefined\n",
    "    })\n",
    "  \"\"\"\n",
    "})"
   ]
  },
  {
   "cell_type": "markdown",
   "metadata": {},
   "source": [
    "## Scrape Walgreens"
   ]
  },
  {
   "cell_type": "code",
   "execution_count": 219,
   "metadata": {
    "tags": []
   },
   "outputs": [],
   "source": [
    "# login()\n",
    "# header = driver.find_element_by_xpath('//*[@id=\"page-content\"]/div[2]/div[1]/h1')\n",
    "\n",
    "# if header.text == \"Your Account\":\n",
    "#     checkAvailability()\n",
    "# else:\n",
    "#     verify()"
   ]
  },
  {
   "cell_type": "code",
   "execution_count": 232,
   "metadata": {},
   "outputs": [
    {
     "name": "stdout",
     "output_type": "stream",
     "text": [
      "No vaccines available. 2021-03-14 23:34:12.680239\n",
      "No vaccines available. 2021-03-14 23:35:21.760907\n",
      "No vaccines available. 2021-03-14 23:36:31.008973\n",
      "No vaccines available. 2021-03-14 23:37:41.820633\n",
      "No vaccines available. 2021-03-14 23:38:50.934578\n",
      "No vaccines available. 2021-03-14 23:39:59.581973\n",
      "No vaccines available. 2021-03-14 23:41:08.030340\n",
      "No vaccines available. 2021-03-14 23:42:16.371900\n",
      "No vaccines available. 2021-03-14 23:43:24.604409\n",
      "No vaccines available. 2021-03-14 23:44:33.621833\n",
      "No vaccines available. 2021-03-14 23:45:41.351915\n",
      "No vaccines available. 2021-03-14 23:46:49.701532\n",
      "No vaccines available. 2021-03-14 23:47:57.841254\n"
     ]
    },
    {
     "ename": "NoSuchElementException",
     "evalue": "Message: no such element: Unable to locate element: {\"method\":\"xpath\",\"selector\":\"//*[@id=\"inputLocation\"]\"}\n  (Session info: chrome=89.0.4389.82)\n",
     "output_type": "error",
     "traceback": [
      "\u001b[0;31m---------------------------------------------------------------------------\u001b[0m",
      "\u001b[0;31mNoSuchElementException\u001b[0m                    Traceback (most recent call last)",
      "\u001b[0;32m<ipython-input-232-4323f8892d4d>\u001b[0m in \u001b[0;36m<module>\u001b[0;34m\u001b[0m\n\u001b[1;32m      1\u001b[0m \u001b[0;32mwhile\u001b[0m \u001b[0;32mTrue\u001b[0m\u001b[0;34m:\u001b[0m\u001b[0;34m\u001b[0m\u001b[0;34m\u001b[0m\u001b[0m\n\u001b[0;32m----> 2\u001b[0;31m     \u001b[0mthing\u001b[0m \u001b[0;34m=\u001b[0m \u001b[0mcheckAvailability\u001b[0m\u001b[0;34m(\u001b[0m\u001b[0;34m)\u001b[0m\u001b[0;34m\u001b[0m\u001b[0;34m\u001b[0m\u001b[0m\n\u001b[0m\u001b[1;32m      3\u001b[0m     \u001b[0;32mif\u001b[0m \u001b[0mthing\u001b[0m \u001b[0;34m==\u001b[0m \u001b[0;32mTrue\u001b[0m\u001b[0;34m:\u001b[0m\u001b[0;34m\u001b[0m\u001b[0;34m\u001b[0m\u001b[0m\n\u001b[1;32m      4\u001b[0m         \u001b[0;32mbreak\u001b[0m\u001b[0;34m\u001b[0m\u001b[0;34m\u001b[0m\u001b[0m\n\u001b[1;32m      5\u001b[0m     \u001b[0mtime\u001b[0m\u001b[0;34m.\u001b[0m\u001b[0msleep\u001b[0m\u001b[0;34m(\u001b[0m\u001b[0;36m60\u001b[0m\u001b[0;34m)\u001b[0m\u001b[0;34m\u001b[0m\u001b[0;34m\u001b[0m\u001b[0m\n",
      "\u001b[0;32m<ipython-input-225-8841ee4739ce>\u001b[0m in \u001b[0;36mcheckAvailability\u001b[0;34m()\u001b[0m\n\u001b[1;32m     11\u001b[0m \u001b[0;34m\u001b[0m\u001b[0m\n\u001b[1;32m     12\u001b[0m     \u001b[0;31m# Enter zip code\u001b[0m\u001b[0;34m\u001b[0m\u001b[0;34m\u001b[0m\u001b[0;34m\u001b[0m\u001b[0m\n\u001b[0;32m---> 13\u001b[0;31m     \u001b[0mzipCodeInput\u001b[0m \u001b[0;34m=\u001b[0m \u001b[0mdriver\u001b[0m\u001b[0;34m.\u001b[0m\u001b[0mfind_element_by_xpath\u001b[0m\u001b[0;34m(\u001b[0m\u001b[0;34m'//*[@id=\"inputLocation\"]'\u001b[0m\u001b[0;34m)\u001b[0m\u001b[0;34m\u001b[0m\u001b[0;34m\u001b[0m\u001b[0m\n\u001b[0m\u001b[1;32m     14\u001b[0m     \u001b[0mtime\u001b[0m\u001b[0;34m.\u001b[0m\u001b[0msleep\u001b[0m\u001b[0;34m(\u001b[0m\u001b[0;36m2\u001b[0m\u001b[0;34m)\u001b[0m\u001b[0;34m\u001b[0m\u001b[0;34m\u001b[0m\u001b[0m\n\u001b[1;32m     15\u001b[0m     \u001b[0mzipCodeInput\u001b[0m\u001b[0;34m.\u001b[0m\u001b[0mclear\u001b[0m\u001b[0;34m(\u001b[0m\u001b[0;34m)\u001b[0m\u001b[0;34m\u001b[0m\u001b[0;34m\u001b[0m\u001b[0m\n",
      "\u001b[0;32m~/.virtualenvs/walgreens/lib/python3.9/site-packages/selenium/webdriver/remote/webdriver.py\u001b[0m in \u001b[0;36mfind_element_by_xpath\u001b[0;34m(self, xpath)\u001b[0m\n\u001b[1;32m    392\u001b[0m             \u001b[0melement\u001b[0m \u001b[0;34m=\u001b[0m \u001b[0mdriver\u001b[0m\u001b[0;34m.\u001b[0m\u001b[0mfind_element_by_xpath\u001b[0m\u001b[0;34m(\u001b[0m\u001b[0;34m'//div/td[1]'\u001b[0m\u001b[0;34m)\u001b[0m\u001b[0;34m\u001b[0m\u001b[0;34m\u001b[0m\u001b[0m\n\u001b[1;32m    393\u001b[0m         \"\"\"\n\u001b[0;32m--> 394\u001b[0;31m         \u001b[0;32mreturn\u001b[0m \u001b[0mself\u001b[0m\u001b[0;34m.\u001b[0m\u001b[0mfind_element\u001b[0m\u001b[0;34m(\u001b[0m\u001b[0mby\u001b[0m\u001b[0;34m=\u001b[0m\u001b[0mBy\u001b[0m\u001b[0;34m.\u001b[0m\u001b[0mXPATH\u001b[0m\u001b[0;34m,\u001b[0m \u001b[0mvalue\u001b[0m\u001b[0;34m=\u001b[0m\u001b[0mxpath\u001b[0m\u001b[0;34m)\u001b[0m\u001b[0;34m\u001b[0m\u001b[0;34m\u001b[0m\u001b[0m\n\u001b[0m\u001b[1;32m    395\u001b[0m \u001b[0;34m\u001b[0m\u001b[0m\n\u001b[1;32m    396\u001b[0m     \u001b[0;32mdef\u001b[0m \u001b[0mfind_elements_by_xpath\u001b[0m\u001b[0;34m(\u001b[0m\u001b[0mself\u001b[0m\u001b[0;34m,\u001b[0m \u001b[0mxpath\u001b[0m\u001b[0;34m)\u001b[0m\u001b[0;34m:\u001b[0m\u001b[0;34m\u001b[0m\u001b[0;34m\u001b[0m\u001b[0m\n",
      "\u001b[0;32m~/.virtualenvs/walgreens/lib/python3.9/site-packages/selenium/webdriver/remote/webdriver.py\u001b[0m in \u001b[0;36mfind_element\u001b[0;34m(self, by, value)\u001b[0m\n\u001b[1;32m    974\u001b[0m                 \u001b[0mby\u001b[0m \u001b[0;34m=\u001b[0m \u001b[0mBy\u001b[0m\u001b[0;34m.\u001b[0m\u001b[0mCSS_SELECTOR\u001b[0m\u001b[0;34m\u001b[0m\u001b[0;34m\u001b[0m\u001b[0m\n\u001b[1;32m    975\u001b[0m                 \u001b[0mvalue\u001b[0m \u001b[0;34m=\u001b[0m \u001b[0;34m'[name=\"%s\"]'\u001b[0m \u001b[0;34m%\u001b[0m \u001b[0mvalue\u001b[0m\u001b[0;34m\u001b[0m\u001b[0;34m\u001b[0m\u001b[0m\n\u001b[0;32m--> 976\u001b[0;31m         return self.execute(Command.FIND_ELEMENT, {\n\u001b[0m\u001b[1;32m    977\u001b[0m             \u001b[0;34m'using'\u001b[0m\u001b[0;34m:\u001b[0m \u001b[0mby\u001b[0m\u001b[0;34m,\u001b[0m\u001b[0;34m\u001b[0m\u001b[0;34m\u001b[0m\u001b[0m\n\u001b[1;32m    978\u001b[0m             'value': value})['value']\n",
      "\u001b[0;32m~/.virtualenvs/walgreens/lib/python3.9/site-packages/selenium/webdriver/remote/webdriver.py\u001b[0m in \u001b[0;36mexecute\u001b[0;34m(self, driver_command, params)\u001b[0m\n\u001b[1;32m    319\u001b[0m         \u001b[0mresponse\u001b[0m \u001b[0;34m=\u001b[0m \u001b[0mself\u001b[0m\u001b[0;34m.\u001b[0m\u001b[0mcommand_executor\u001b[0m\u001b[0;34m.\u001b[0m\u001b[0mexecute\u001b[0m\u001b[0;34m(\u001b[0m\u001b[0mdriver_command\u001b[0m\u001b[0;34m,\u001b[0m \u001b[0mparams\u001b[0m\u001b[0;34m)\u001b[0m\u001b[0;34m\u001b[0m\u001b[0;34m\u001b[0m\u001b[0m\n\u001b[1;32m    320\u001b[0m         \u001b[0;32mif\u001b[0m \u001b[0mresponse\u001b[0m\u001b[0;34m:\u001b[0m\u001b[0;34m\u001b[0m\u001b[0;34m\u001b[0m\u001b[0m\n\u001b[0;32m--> 321\u001b[0;31m             \u001b[0mself\u001b[0m\u001b[0;34m.\u001b[0m\u001b[0merror_handler\u001b[0m\u001b[0;34m.\u001b[0m\u001b[0mcheck_response\u001b[0m\u001b[0;34m(\u001b[0m\u001b[0mresponse\u001b[0m\u001b[0;34m)\u001b[0m\u001b[0;34m\u001b[0m\u001b[0;34m\u001b[0m\u001b[0m\n\u001b[0m\u001b[1;32m    322\u001b[0m             response['value'] = self._unwrap_value(\n\u001b[1;32m    323\u001b[0m                 response.get('value', None))\n",
      "\u001b[0;32m~/.virtualenvs/walgreens/lib/python3.9/site-packages/selenium/webdriver/remote/errorhandler.py\u001b[0m in \u001b[0;36mcheck_response\u001b[0;34m(self, response)\u001b[0m\n\u001b[1;32m    240\u001b[0m                 \u001b[0malert_text\u001b[0m \u001b[0;34m=\u001b[0m \u001b[0mvalue\u001b[0m\u001b[0;34m[\u001b[0m\u001b[0;34m'alert'\u001b[0m\u001b[0;34m]\u001b[0m\u001b[0;34m.\u001b[0m\u001b[0mget\u001b[0m\u001b[0;34m(\u001b[0m\u001b[0;34m'text'\u001b[0m\u001b[0;34m)\u001b[0m\u001b[0;34m\u001b[0m\u001b[0;34m\u001b[0m\u001b[0m\n\u001b[1;32m    241\u001b[0m             \u001b[0;32mraise\u001b[0m \u001b[0mexception_class\u001b[0m\u001b[0;34m(\u001b[0m\u001b[0mmessage\u001b[0m\u001b[0;34m,\u001b[0m \u001b[0mscreen\u001b[0m\u001b[0;34m,\u001b[0m \u001b[0mstacktrace\u001b[0m\u001b[0;34m,\u001b[0m \u001b[0malert_text\u001b[0m\u001b[0;34m)\u001b[0m\u001b[0;34m\u001b[0m\u001b[0;34m\u001b[0m\u001b[0m\n\u001b[0;32m--> 242\u001b[0;31m         \u001b[0;32mraise\u001b[0m \u001b[0mexception_class\u001b[0m\u001b[0;34m(\u001b[0m\u001b[0mmessage\u001b[0m\u001b[0;34m,\u001b[0m \u001b[0mscreen\u001b[0m\u001b[0;34m,\u001b[0m \u001b[0mstacktrace\u001b[0m\u001b[0;34m)\u001b[0m\u001b[0;34m\u001b[0m\u001b[0;34m\u001b[0m\u001b[0m\n\u001b[0m\u001b[1;32m    243\u001b[0m \u001b[0;34m\u001b[0m\u001b[0m\n\u001b[1;32m    244\u001b[0m     \u001b[0;32mdef\u001b[0m \u001b[0m_value_or_default\u001b[0m\u001b[0;34m(\u001b[0m\u001b[0mself\u001b[0m\u001b[0;34m,\u001b[0m \u001b[0mobj\u001b[0m\u001b[0;34m,\u001b[0m \u001b[0mkey\u001b[0m\u001b[0;34m,\u001b[0m \u001b[0mdefault\u001b[0m\u001b[0;34m)\u001b[0m\u001b[0;34m:\u001b[0m\u001b[0;34m\u001b[0m\u001b[0;34m\u001b[0m\u001b[0m\n",
      "\u001b[0;31mNoSuchElementException\u001b[0m: Message: no such element: Unable to locate element: {\"method\":\"xpath\",\"selector\":\"//*[@id=\"inputLocation\"]\"}\n  (Session info: chrome=89.0.4389.82)\n"
     ]
    }
   ],
   "source": [
    "while True:\n",
    "    thing = checkAvailability()\n",
    "    if thing == True:\n",
    "        break\n",
    "    time.sleep(60)"
   ]
  },
  {
   "cell_type": "code",
   "execution_count": null,
   "metadata": {},
   "outputs": [],
   "source": []
  }
 ],
 "metadata": {
  "kernelspec": {
   "display_name": "Python 3",
   "language": "python",
   "name": "python3"
  },
  "language_info": {
   "codemirror_mode": {
    "name": "ipython",
    "version": 3
   },
   "file_extension": ".py",
   "mimetype": "text/x-python",
   "name": "python",
   "nbconvert_exporter": "python",
   "pygments_lexer": "ipython3",
   "version": "3.9.1"
  }
 },
 "nbformat": 4,
 "nbformat_minor": 4
}
